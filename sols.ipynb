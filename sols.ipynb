{
 "cells": [
  {
   "cell_type": "code",
   "execution_count": 1,
   "id": "d2c3e906",
   "metadata": {},
   "outputs": [
    {
     "name": "stdout",
     "output_type": "stream",
     "text": [
      "importing Jupyter notebook from mylibrary_true.ipynb\n"
     ]
    }
   ],
   "source": [
    "import import_ipynb      #for importing other files in jupyter\n",
    "import mylibrary_true as ml   #for accessing library"
   ]
  },
  {
   "cell_type": "code",
   "execution_count": 2,
   "id": "dca8d6d8",
   "metadata": {},
   "outputs": [],
   "source": [
    "import math             #for functions\n",
    "import random as rand   #for random "
   ]
  },
  {
   "cell_type": "code",
   "execution_count": 3,
   "id": "abeb1dff",
   "metadata": {},
   "outputs": [
    {
     "name": "stdout",
     "output_type": "stream",
     "text": [
      "The values of the integral are\n",
      "\n",
      "    Midpoint                   Trapezoid                      Simpson\n",
      "________________________________________________________________________________________________\n",
      "3.618313859329873           3.6239569493985613           3.6203301434402904\n",
      "3.619709761707181           3.621135404364218           3.6201948893527693\n",
      "3.619972785533525           3.620607687124767           3.620186449815973\n",
      "\n",
      "The actual analytical result is approximately 3.620184280\n",
      "Clearly Simpson method is most accurate and midpoint is least accurate\n"
     ]
    }
   ],
   "source": [
    "#QUESTION 1\n",
    "\n",
    "\n",
    "exp_1 = \"math.sqrt(1 + 1/x)\"\n",
    "\n",
    "#given a=1, b=4\n",
    "\n",
    "N = [8, 16, 24]\n",
    "msum = []   #stores the integrals caluculated using midpoint\n",
    "tsum = []   #stores the integrals caluculated using trapezoid\n",
    "ssum = []   #stores the integrals caluculated using simpson\n",
    "\n",
    "\n",
    "\n",
    "for i in range(3):\n",
    "    msum.append(ml.integral.midpoint(exp_1, 1, 4, N[i]))\n",
    "    tsum.append(ml.integral.trapezoid(exp_1, 1, 4, N[i]))\n",
    "    ssum.append(ml.integral.simpson(exp_1, 1, 4, N[i]))\n",
    "\n",
    "    \n",
    "    \n",
    "    \n",
    "print(\"The values of the integral are\")\n",
    "print()\n",
    "print(\"    Midpoint                   Trapezoid                      Simpson\")\n",
    "print(\"________________________________________________________________________________________________\")\n",
    "\n",
    "for i in range(3):\n",
    "    print(msum[i], \"         \", tsum[i], \"         \", ssum[i])\n",
    "    \n",
    "print()\n",
    "print(\"The actual analytical result is approximately 3.620184280\")\n",
    "print(\"Clearly Simpson method is most accurate and midpoint is least accurate\")"
   ]
  },
  {
   "cell_type": "code",
   "execution_count": 8,
   "id": "c7a45673",
   "metadata": {},
   "outputs": [
    {
     "name": "stdout",
     "output_type": "stream",
     "text": [
      "10\n",
      "2\n",
      "The integral calculated using midpoint method is  0.643137698010569\n",
      "The integral calculated using trapezoid method is  0.6444300126935936\n",
      "The integral calculated using simpson method is  0.6439505508593788\n"
     ]
    }
   ],
   "source": [
    "#Question 2\n",
    "#we know that |f''(x)|_max is 1 when x = 0 and\n",
    "#|f''''(x)|_max is 1.5 when x = 0 for the given function\n",
    "\n",
    "exp_2 = \"x*math.sqrt(1 + x)\"\n",
    "error = 0.001\n",
    "a2 = 0\n",
    "b2 = 1\n",
    "\n",
    "sum_1 = ml.integral.midpoint(exp_2, a2, b2, 7)\n",
    "sum_2 = ml.integral.trapezoid(exp_2, a2, b2, 10, error, 1)\n",
    "sum_3 = ml.integral.simpson(exp_2, a2, b2, 10, error, 1.5)\n",
    "\n",
    "print(\"The integral calculated using midpoint method is \", sum_1)\n",
    "print(\"The integral calculated using trapezoid method is \", sum_2)\n",
    "print(\"The integral calculated using simpson method is \", sum_3)\n"
   ]
  },
  {
   "cell_type": "code",
   "execution_count": 6,
   "id": "aa7d86a4",
   "metadata": {},
   "outputs": [
    {
     "data": {
      "image/png": "[encoded data removed]",
      "text/plain": [
       "<Figure size 432x288 with 1 Axes>"
      ]
     },
     "metadata": {
      "needs_background": "light"
     },
     "output_type": "display_data"
    },
    {
     "name": "stdout",
     "output_type": "stream",
     "text": [
      "The integral converges as N increases from left to right\n",
      "[3.083306658733241, 3.0497675500145056, 3.1744796575396252, 3.1478911203678885, 3.141338443149676]\n",
      "\n",
      "The sigma value as N from left to right is\n",
      "[0.6078624661041833, 0.590994622540857, 0.6403600067679734, 0.6423999508785007, 0.6430894643772481]\n"
     ]
    }
   ],
   "source": [
    "#Question 3\n",
    "\n",
    "exp_3 = \"4/(1+x*x)\"\n",
    "\n",
    "integ, err = ml.integral.monte_carlo(exp_3, 0, 1, 5, 10, 10, True)\n",
    "\n",
    "\n",
    "print(\"The integral converges as N increases from left to right\")\n",
    "print(integ)\n",
    "print()\n",
    "\n",
    "print(\"The sigma value as N from left to right is\")\n",
    "print(err)"
   ]
  },
  {
   "cell_type": "code",
   "execution_count": 18,
   "id": "016b5d4c",
   "metadata": {},
   "outputs": [
    {
     "name": "stdout",
     "output_type": "stream",
     "text": [
      "The centre of mass calculated using midpoint method is at x =  1.5000370217512558\n",
      "The centre of mass calculated using trapezoid method is at x =  1.4999629933213292\n"
     ]
    }
   ],
   "source": [
    "#Question 4\n",
    "\n",
    "#the mass distribution is x*x so centre of mass is given by\n",
    "#(integral of (x*x)*x from 0 to 2) divided by total mass which is integral of x*x from 0 to 2\n",
    "\n",
    "#we will not use simpsons method because quadruple derivative of x*x is 0, which will hence be N and hence 1/N cannot be computed\n",
    "\n",
    "#calculating numerator\n",
    "numerator = \"x*x*x\"\n",
    "a4 = 0\n",
    "b4 = 2\n",
    "error = 0.0001\n",
    "\n",
    "num_1 = ml.integral.midpoint(numerator, a4, b4, 10, error, 12)\n",
    "num_2 = ml.integral.trapezoid(numerator, a4, b4, 10, error, 12)\n",
    "\n",
    "\n",
    "#calculating total mass\n",
    "mtotal = \"x*x\"\n",
    "\n",
    "mass_1 = ml.integral.midpoint(mtotal, a4, b4, 10, error, 2)\n",
    "mass_2 = ml.integral.trapezoid(mtotal, a4, b4, 10, error, 2)\n",
    "\n",
    "print(\"The centre of mass calculated using midpoint method is at x = \", num_1/mass_1)\n",
    "print(\"The centre of mass calculated using trapezoid method is at x = \", num_2/mass_2)\n"
   ]
  },
  {
   "cell_type": "code",
   "execution_count": null,
   "id": "99458c0b",
   "metadata": {},
   "outputs": [],
   "source": []
  }
 ],
 "metadata": {
  "kernelspec": {
   "display_name": "Python 3",
   "language": "python",
   "name": "python3"
  },
  "language_info": {
   "codemirror_mode": {
    "name": "ipython",
    "version": 3
   },
   "file_extension": ".py",
   "mimetype": "text/x-python",
   "name": "python",
   "nbconvert_exporter": "python",
   "pygments_lexer": "ipython3",
   "version": "3.8.8"
  }
 },
 "nbformat": 4,
 "nbformat_minor": 5
}
